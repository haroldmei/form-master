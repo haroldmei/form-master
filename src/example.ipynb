{
 "cells": [
  {
   "cell_type": "code",
   "execution_count": 3,
   "id": "ebfcbc2b",
   "metadata": {},
   "outputs": [],
   "source": [
    "from selenium import webdriver\n",
    "from selenium.webdriver.chrome.options import Options\n",
    "\n",
    "from selenium.webdriver.support.ui import WebDriverWait\n",
    "from selenium.webdriver.support import expected_conditions as EC\n",
    "from selenium.webdriver.common.by import By\n",
    "\n",
    "from selenium.webdriver import Firefox, FirefoxOptions\n",
    "from threading import Lock\n",
    "\n",
    "from pynput.mouse import Listener as MouseListener\n",
    "from pynput.keyboard import Listener as KeyboardListener"
   ]
  },
  {
   "cell_type": "code",
   "execution_count": 4,
   "id": "3a366a25",
   "metadata": {},
   "outputs": [
    {
     "name": "stderr",
     "output_type": "stream",
     "text": [
      "/tmp/ipykernel_981977/3247276802.py:3: DeprecationWarning: use options instead of chrome_options\n",
      "  driver = webdriver.Chrome(chrome_options=chrome_options)\n"
     ]
    }
   ],
   "source": [
    "chrome_options = Options()\n",
    "chrome_options.add_experimental_option(\"debuggerAddress\", \"127.0.0.1:9222\")\n",
    "driver = webdriver.Chrome(chrome_options=chrome_options)"
   ]
  },
  {
   "cell_type": "code",
   "execution_count": 13,
   "id": "da1273cf",
   "metadata": {},
   "outputs": [],
   "source": [
    "driver.switch_to.window(driver.window_handles[-1])"
   ]
  },
  {
   "cell_type": "code",
   "execution_count": 18,
   "id": "9ff653d9",
   "metadata": {},
   "outputs": [
    {
     "data": {
      "text/plain": [
       "'https://pay.sydney.edu.au/ePays/paymentemail'"
      ]
     },
     "execution_count": 18,
     "metadata": {},
     "output_type": "execute_result"
    }
   ],
   "source": [
    "driver.current_url"
   ]
  },
  {
   "cell_type": "code",
   "execution_count": 27,
   "id": "18c51887",
   "metadata": {},
   "outputs": [
    {
     "name": "stdout",
     "output_type": "stream",
     "text": [
      "uiNavData\n",
      "nav-global\n",
      "content\n",
      "uds_paymentnumber\n",
      "uds_amount\n",
      "uds_email\n",
      "UDS_PAYMENT_FRAME\n",
      "UDS_DATA\n"
     ]
    }
   ],
   "source": [
    "elems = driver.find_elements(\"xpath\", '//*[@id]')\n",
    "for e in elems:\n",
    "    print(e.get_attribute('id'))\n",
    "    try:\n",
    "        e.send_keys(e.get_attribute('id'))\n",
    "    except:\n",
    "        pass"
   ]
  },
  {
   "cell_type": "code",
   "execution_count": 35,
   "id": "c480bd96",
   "metadata": {},
   "outputs": [
    {
     "data": {
      "text/plain": [
       "<selenium.webdriver.remote.webelement.WebElement (session=\"e64f93ccfb1594ef07aa64af23d8dfc4\", element=\"4e573a6f-d24a-4909-b48a-53ce8e4a3032\")>"
      ]
     },
     "execution_count": 35,
     "metadata": {},
     "output_type": "execute_result"
    }
   ],
   "source": [
    "driver.find_element('xpath', '/html/body/form/fieldset/ul/li[2]/div[2]/label[1]')"
   ]
  }
 ],
 "metadata": {
  "kernelspec": {
   "display_name": "Python 3 (ipykernel)",
   "language": "python",
   "name": "python3"
  },
  "language_info": {
   "codemirror_mode": {
    "name": "ipython",
    "version": 3
   },
   "file_extension": ".py",
   "mimetype": "text/x-python",
   "name": "python",
   "nbconvert_exporter": "python",
   "pygments_lexer": "ipython3",
   "version": "3.10.8"
  }
 },
 "nbformat": 4,
 "nbformat_minor": 5
}
